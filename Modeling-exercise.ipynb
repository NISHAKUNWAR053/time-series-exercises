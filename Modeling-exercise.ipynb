{
 "cells": [
  {
   "cell_type": "markdown",
   "id": "944176bc-31d2-480f-993c-fd24a202b1c5",
   "metadata": {},
   "source": [
    "# Forecasting"
   ]
  },
  {
   "cell_type": "markdown",
   "id": "931b016b-f71e-40f6-90f9-1d4c2d0051db",
   "metadata": {},
   "source": [
    "SAAS data"
   ]
  },
  {
   "cell_type": "code",
   "execution_count": 1,
   "id": "dce0cfa9-c9b5-4eb1-bdb7-fb62f9283f38",
   "metadata": {},
   "outputs": [],
   "source": [
    "import pandas as pd\n",
    "import numpy as np\n",
    "#visualizations\n",
    "import matplotlib.pyplot as plt\n",
    "import seaborn as sns\n",
    "# working with data\n",
    "import datetime\n",
    "# to evaluate performance using rmse\n",
    "from sklearn.metrics import mean_squared_error\n",
    "from math import sqrt\n",
    "# fir tsa\n",
    "import statsmodels.api as sm\n",
    "#holt's linear trend model\n",
    "from statsmodels.tsa.api import Holt\n",
    "\n"
   ]
  },
  {
   "cell_type": "code",
   "execution_count": 2,
   "id": "f4793cfa-0471-41a9-9e03-46b7abe01b6c",
   "metadata": {},
   "outputs": [
    {
     "name": "stdout",
     "output_type": "stream",
     "text": [
      "shape: (790458, 5)\n"
     ]
    },
    {
     "data": {
      "text/html": [
       "<div>\n",
       "<style scoped>\n",
       "    .dataframe tbody tr th:only-of-type {\n",
       "        vertical-align: middle;\n",
       "    }\n",
       "\n",
       "    .dataframe tbody tr th {\n",
       "        vertical-align: top;\n",
       "    }\n",
       "\n",
       "    .dataframe thead th {\n",
       "        text-align: right;\n",
       "    }\n",
       "</style>\n",
       "<table border=\"1\" class=\"dataframe\">\n",
       "  <thead>\n",
       "    <tr style=\"text-align: right;\">\n",
       "      <th></th>\n",
       "      <th>Month_Invoiced</th>\n",
       "      <th>Customer_Id</th>\n",
       "      <th>Invoice_Id</th>\n",
       "      <th>Subscription_Type</th>\n",
       "      <th>Amount</th>\n",
       "    </tr>\n",
       "  </thead>\n",
       "  <tbody>\n",
       "    <tr>\n",
       "      <th>0</th>\n",
       "      <td>2014-01-31</td>\n",
       "      <td>1000000</td>\n",
       "      <td>5000000</td>\n",
       "      <td>0.0</td>\n",
       "      <td>0.0</td>\n",
       "    </tr>\n",
       "    <tr>\n",
       "      <th>1</th>\n",
       "      <td>2014-01-31</td>\n",
       "      <td>1000001</td>\n",
       "      <td>5000001</td>\n",
       "      <td>2.0</td>\n",
       "      <td>10.0</td>\n",
       "    </tr>\n",
       "    <tr>\n",
       "      <th>2</th>\n",
       "      <td>2014-01-31</td>\n",
       "      <td>1000002</td>\n",
       "      <td>5000002</td>\n",
       "      <td>0.0</td>\n",
       "      <td>0.0</td>\n",
       "    </tr>\n",
       "    <tr>\n",
       "      <th>3</th>\n",
       "      <td>2014-01-31</td>\n",
       "      <td>1000003</td>\n",
       "      <td>5000003</td>\n",
       "      <td>0.0</td>\n",
       "      <td>0.0</td>\n",
       "    </tr>\n",
       "    <tr>\n",
       "      <th>4</th>\n",
       "      <td>2014-01-31</td>\n",
       "      <td>1000004</td>\n",
       "      <td>5000004</td>\n",
       "      <td>1.0</td>\n",
       "      <td>5.0</td>\n",
       "    </tr>\n",
       "  </tbody>\n",
       "</table>\n",
       "</div>"
      ],
      "text/plain": [
       "  Month_Invoiced  Customer_Id  Invoice_Id  Subscription_Type  Amount\n",
       "0     2014-01-31      1000000     5000000                0.0     0.0\n",
       "1     2014-01-31      1000001     5000001                2.0    10.0\n",
       "2     2014-01-31      1000002     5000002                0.0     0.0\n",
       "3     2014-01-31      1000003     5000003                0.0     0.0\n",
       "4     2014-01-31      1000004     5000004                1.0     5.0"
      ]
     },
     "execution_count": 2,
     "metadata": {},
     "output_type": "execute_result"
    }
   ],
   "source": [
    "# acquired data(SAAS)\n",
    "url = 'https://ds.codeup.com/saas.csv'\n",
    "df = pd.read_csv(url)\n",
    "print('shape:', df.shape)\n",
    "df.head()"
   ]
  },
  {
   "cell_type": "code",
   "execution_count": 3,
   "id": "c577664e-1370-419b-b80b-5ca5fc09115a",
   "metadata": {},
   "outputs": [],
   "source": [
    "# Data prep \n",
    "df.Month_Invoiced = pd.to_datetime(df.Month_Invoiced)\n"
   ]
  },
  {
   "cell_type": "markdown",
   "id": "bd9f8acb-0dbf-44b9-a4fd-dea9b8dba368",
   "metadata": {},
   "source": [
    "subscription_type and amount are integers  let's convert them to right data type"
   ]
  },
  {
   "cell_type": "code",
   "execution_count": 4,
   "id": "016b31b7-1ec2-40a5-b487-bc288731ec2a",
   "metadata": {},
   "outputs": [
    {
     "data": {
      "text/plain": [
       "Subscription_Type\n",
       "0.0    496410\n",
       "1.0    178212\n",
       "2.0     70706\n",
       "3.0     26474\n",
       "4.0     18656\n",
       "Name: count, dtype: int64"
      ]
     },
     "execution_count": 4,
     "metadata": {},
     "output_type": "execute_result"
    }
   ],
   "source": [
    "df.Subscription_Type.value_counts()"
   ]
  },
  {
   "cell_type": "code",
   "execution_count": 5,
   "id": "9c0b4877-ec16-44ba-a668-6da634b6afcc",
   "metadata": {},
   "outputs": [],
   "source": [
    "df.Subscription_Type = df.Subscription_Type.astype(int)\n"
   ]
  },
  {
   "cell_type": "code",
   "execution_count": 6,
   "id": "4c45eeb1-e32d-42eb-863c-4bd9f9029b58",
   "metadata": {},
   "outputs": [
    {
     "data": {
      "text/plain": [
       "Amount\n",
       "0.0     496410\n",
       "5.0     178212\n",
       "10.0     70706\n",
       "15.0     26474\n",
       "20.0     18656\n",
       "Name: count, dtype: int64"
      ]
     },
     "execution_count": 6,
     "metadata": {},
     "output_type": "execute_result"
    }
   ],
   "source": [
    "df.Amount.value_counts()"
   ]
  },
  {
   "cell_type": "code",
   "execution_count": 7,
   "id": "ca217bcc-00fd-404b-b0db-4f469702e590",
   "metadata": {},
   "outputs": [],
   "source": [
    "df.Amount = df.Amount.astype(int)\n"
   ]
  },
  {
   "cell_type": "code",
   "execution_count": 8,
   "id": "c17d74f4-0cec-4fff-9b38-8f225c49dd41",
   "metadata": {},
   "outputs": [],
   "source": [
    "# a datetime index is probably a good idea for time series analysis\n",
    "df = df.set_index('Month_Invoiced')\n"
   ]
  },
  {
   "cell_type": "code",
   "execution_count": null,
   "id": "e20e7858-766d-4063-962b-1eb8005570b7",
   "metadata": {},
   "outputs": [],
   "source": []
  }
 ],
 "metadata": {
  "kernelspec": {
   "display_name": "Python 3 (ipykernel)",
   "language": "python",
   "name": "python3"
  },
  "language_info": {
   "codemirror_mode": {
    "name": "ipython",
    "version": 3
   },
   "file_extension": ".py",
   "mimetype": "text/x-python",
   "name": "python",
   "nbconvert_exporter": "python",
   "pygments_lexer": "ipython3",
   "version": "3.10.12"
  }
 },
 "nbformat": 4,
 "nbformat_minor": 5
}
